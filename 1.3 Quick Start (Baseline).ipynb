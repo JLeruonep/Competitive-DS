{
 "cells": [
  {
   "cell_type": "markdown",
   "metadata": {},
   "source": [
    "# <center>⚡️🏁 Quick start - тестируем простое решение</center>"
   ]
  },
  {
   "cell_type": "code",
   "execution_count": 1,
   "metadata": {
    "ExecuteTime": {
     "end_time": "2022-09-23T12:30:27.726118Z",
     "start_time": "2022-09-23T12:30:24.605676Z"
    },
    "tags": []
   },
   "outputs": [],
   "source": [
    "import numpy as np\n",
    "import pandas as pd"
   ]
  },
  {
   "cell_type": "markdown",
   "metadata": {},
   "source": [
    "## Анализируем данные о машинах car_info\n",
    "\n",
    "🚗 Главное описание машин с информацией о поломках для обучения / прогноза - `car_train.csv` / `car_test.csv`.\n",
    "\n",
    "**Пояснение столбцов:**\n",
    "- `car_id` - идентификатор машины\n",
    "- `model` / `car_type` / `fuel_type`- марка, класс и тип топлива машины\n",
    "- `car_rating` / `riders` - общий рейтинг и общее число поездок к концу 2021-го кода.\n",
    "- `year_to_start` / `year_to_work` - годы выпуска машины и начала работы в автопарке \n",
    "- `target_reg` - количество дней до поломки.\n",
    "- `target_class` - класс поломки (всего 9 видов)"
   ]
  },
  {
   "cell_type": "code",
   "execution_count": 21,
   "metadata": {
    "ExecuteTime": {
     "end_time": "2022-09-23T12:30:31.614036Z",
     "start_time": "2022-09-23T12:30:27.758714Z"
    },
    "tags": []
   },
   "outputs": [
    {
     "name": "stdout",
     "output_type": "stream",
     "text": [
      "(2337, 11)\n"
     ]
    },
    {
     "data": {
      "text/html": [
       "<div>\n",
       "<style scoped>\n",
       "    .dataframe tbody tr th:only-of-type {\n",
       "        vertical-align: middle;\n",
       "    }\n",
       "\n",
       "    .dataframe tbody tr th {\n",
       "        vertical-align: top;\n",
       "    }\n",
       "\n",
       "    .dataframe thead th {\n",
       "        text-align: right;\n",
       "    }\n",
       "</style>\n",
       "<table border=\"1\" class=\"dataframe\">\n",
       "  <thead>\n",
       "    <tr style=\"text-align: right;\">\n",
       "      <th></th>\n",
       "      <th>Unnamed: 0</th>\n",
       "      <th>car_id</th>\n",
       "      <th>model</th>\n",
       "      <th>car_type</th>\n",
       "      <th>fuel_type</th>\n",
       "      <th>car_rating</th>\n",
       "      <th>year_to_start</th>\n",
       "      <th>riders</th>\n",
       "      <th>year_to_work</th>\n",
       "      <th>target_reg</th>\n",
       "      <th>target_class</th>\n",
       "    </tr>\n",
       "  </thead>\n",
       "  <tbody>\n",
       "    <tr>\n",
       "      <th>1221</th>\n",
       "      <td>1221</td>\n",
       "      <td>p-2255017N</td>\n",
       "      <td>Smart ForTwo</td>\n",
       "      <td>economy</td>\n",
       "      <td>petrol</td>\n",
       "      <td>5.10</td>\n",
       "      <td>2013</td>\n",
       "      <td>50083</td>\n",
       "      <td>2016</td>\n",
       "      <td>39.54</td>\n",
       "      <td>wheel_shake</td>\n",
       "    </tr>\n",
       "    <tr>\n",
       "      <th>1002</th>\n",
       "      <td>1002</td>\n",
       "      <td>x98858599X</td>\n",
       "      <td>Nissan Qashqai</td>\n",
       "      <td>standart</td>\n",
       "      <td>petrol</td>\n",
       "      <td>4.56</td>\n",
       "      <td>2014</td>\n",
       "      <td>64370</td>\n",
       "      <td>2017</td>\n",
       "      <td>93.97</td>\n",
       "      <td>another_bug</td>\n",
       "    </tr>\n",
       "    <tr>\n",
       "      <th>1747</th>\n",
       "      <td>1747</td>\n",
       "      <td>F-1424198I</td>\n",
       "      <td>Kia Rio X-line</td>\n",
       "      <td>economy</td>\n",
       "      <td>petrol</td>\n",
       "      <td>4.92</td>\n",
       "      <td>2014</td>\n",
       "      <td>59945</td>\n",
       "      <td>2015</td>\n",
       "      <td>48.40</td>\n",
       "      <td>engine_check</td>\n",
       "    </tr>\n",
       "  </tbody>\n",
       "</table>\n",
       "</div>"
      ],
      "text/plain": [
       "      Unnamed: 0      car_id           model  car_type fuel_type  car_rating  \\\n",
       "1221        1221  p-2255017N    Smart ForTwo   economy    petrol        5.10   \n",
       "1002        1002  x98858599X  Nissan Qashqai  standart    petrol        4.56   \n",
       "1747        1747  F-1424198I  Kia Rio X-line   economy    petrol        4.92   \n",
       "\n",
       "      year_to_start  riders  year_to_work  target_reg  target_class  \n",
       "1221           2013   50083          2016       39.54   wheel_shake  \n",
       "1002           2014   64370          2017       93.97   another_bug  \n",
       "1747           2014   59945          2015       48.40  engine_check  "
      ]
     },
     "execution_count": 21,
     "metadata": {},
     "output_type": "execute_result"
    },
    {
     "data": {
      "image/png": "[encoded data removed]",
      "text/plain": [
       "<Figure size 1440x360 with 10 Axes>"
      ]
     },
     "metadata": {
      "needs_background": "light"
     },
     "output_type": "display_data"
    }
   ],
   "source": [
    "train = pd.read_csv('Datasets/Carsharing/car_train.csv')\n",
    "print(train.shape)\n",
    "train.hist(figsize=(20, 5), layout = (-1, 5))\n",
    "train.sample(3)"
   ]
  },
  {
   "cell_type": "code",
   "execution_count": 3,
   "metadata": {},
   "outputs": [
    {
     "data": {
      "text/html": [
       "<div>\n",
       "<style scoped>\n",
       "    .dataframe tbody tr th:only-of-type {\n",
       "        vertical-align: middle;\n",
       "    }\n",
       "\n",
       "    .dataframe tbody tr th {\n",
       "        vertical-align: top;\n",
       "    }\n",
       "\n",
       "    .dataframe thead th {\n",
       "        text-align: right;\n",
       "    }\n",
       "</style>\n",
       "<table border=\"1\" class=\"dataframe\">\n",
       "  <thead>\n",
       "    <tr style=\"text-align: right;\">\n",
       "      <th></th>\n",
       "      <th>car_rating</th>\n",
       "      <th>year_to_start</th>\n",
       "      <th>riders</th>\n",
       "      <th>year_to_work</th>\n",
       "      <th>target_reg</th>\n",
       "    </tr>\n",
       "  </thead>\n",
       "  <tbody>\n",
       "    <tr>\n",
       "      <th>count</th>\n",
       "      <td>2337.000000</td>\n",
       "      <td>2337.000000</td>\n",
       "      <td>2337.000000</td>\n",
       "      <td>2337.000000</td>\n",
       "      <td>2337.000000</td>\n",
       "    </tr>\n",
       "    <tr>\n",
       "      <th>mean</th>\n",
       "      <td>4.354292</td>\n",
       "      <td>2014.040650</td>\n",
       "      <td>63711.443731</td>\n",
       "      <td>2018.069748</td>\n",
       "      <td>44.946735</td>\n",
       "    </tr>\n",
       "    <tr>\n",
       "      <th>std</th>\n",
       "      <td>0.996954</td>\n",
       "      <td>1.685852</td>\n",
       "      <td>33755.012096</td>\n",
       "      <td>2.159484</td>\n",
       "      <td>17.579568</td>\n",
       "    </tr>\n",
       "    <tr>\n",
       "      <th>min</th>\n",
       "      <td>0.980000</td>\n",
       "      <td>2011.000000</td>\n",
       "      <td>23.000000</td>\n",
       "      <td>2014.000000</td>\n",
       "      <td>18.920000</td>\n",
       "    </tr>\n",
       "    <tr>\n",
       "      <th>25%</th>\n",
       "      <td>3.740000</td>\n",
       "      <td>2013.000000</td>\n",
       "      <td>41053.000000</td>\n",
       "      <td>2016.000000</td>\n",
       "      <td>31.670000</td>\n",
       "    </tr>\n",
       "    <tr>\n",
       "      <th>50%</th>\n",
       "      <td>4.360000</td>\n",
       "      <td>2014.000000</td>\n",
       "      <td>64415.000000</td>\n",
       "      <td>2018.000000</td>\n",
       "      <td>40.170000</td>\n",
       "    </tr>\n",
       "    <tr>\n",
       "      <th>75%</th>\n",
       "      <td>5.000000</td>\n",
       "      <td>2015.000000</td>\n",
       "      <td>86515.000000</td>\n",
       "      <td>2020.000000</td>\n",
       "      <td>54.790000</td>\n",
       "    </tr>\n",
       "    <tr>\n",
       "      <th>max</th>\n",
       "      <td>8.900000</td>\n",
       "      <td>2017.000000</td>\n",
       "      <td>142862.000000</td>\n",
       "      <td>2022.000000</td>\n",
       "      <td>141.630000</td>\n",
       "    </tr>\n",
       "  </tbody>\n",
       "</table>\n",
       "</div>"
      ],
      "text/plain": [
       "        car_rating  year_to_start         riders  year_to_work   target_reg\n",
       "count  2337.000000    2337.000000    2337.000000   2337.000000  2337.000000\n",
       "mean      4.354292    2014.040650   63711.443731   2018.069748    44.946735\n",
       "std       0.996954       1.685852   33755.012096      2.159484    17.579568\n",
       "min       0.980000    2011.000000      23.000000   2014.000000    18.920000\n",
       "25%       3.740000    2013.000000   41053.000000   2016.000000    31.670000\n",
       "50%       4.360000    2014.000000   64415.000000   2018.000000    40.170000\n",
       "75%       5.000000    2015.000000   86515.000000   2020.000000    54.790000\n",
       "max       8.900000    2017.000000  142862.000000   2022.000000   141.630000"
      ]
     },
     "execution_count": 3,
     "metadata": {},
     "output_type": "execute_result"
    }
   ],
   "source": [
    "train.describe()"
   ]
  },
  {
   "cell_type": "code",
   "execution_count": 23,
   "metadata": {
    "tags": []
   },
   "outputs": [
    {
     "name": "stdout",
     "output_type": "stream",
     "text": [
      "(1913, 8)\n"
     ]
    },
    {
     "data": {
      "text/html": [
       "<div>\n",
       "<style scoped>\n",
       "    .dataframe tbody tr th:only-of-type {\n",
       "        vertical-align: middle;\n",
       "    }\n",
       "\n",
       "    .dataframe tbody tr th {\n",
       "        vertical-align: top;\n",
       "    }\n",
       "\n",
       "    .dataframe thead th {\n",
       "        text-align: right;\n",
       "    }\n",
       "</style>\n",
       "<table border=\"1\" class=\"dataframe\">\n",
       "  <thead>\n",
       "    <tr style=\"text-align: right;\">\n",
       "      <th></th>\n",
       "      <th>car_id</th>\n",
       "      <th>model</th>\n",
       "      <th>car_type</th>\n",
       "      <th>fuel_type</th>\n",
       "      <th>car_rating</th>\n",
       "      <th>year_to_start</th>\n",
       "      <th>riders</th>\n",
       "      <th>year_to_work</th>\n",
       "    </tr>\n",
       "  </thead>\n",
       "  <tbody>\n",
       "    <tr>\n",
       "      <th>86</th>\n",
       "      <td>g-1912309G</td>\n",
       "      <td>VW Polo</td>\n",
       "      <td>economy</td>\n",
       "      <td>petrol</td>\n",
       "      <td>4.90</td>\n",
       "      <td>2013</td>\n",
       "      <td>37330</td>\n",
       "      <td>2021</td>\n",
       "    </tr>\n",
       "    <tr>\n",
       "      <th>1088</th>\n",
       "      <td>L-2071083z</td>\n",
       "      <td>VW Polo</td>\n",
       "      <td>economy</td>\n",
       "      <td>petrol</td>\n",
       "      <td>4.78</td>\n",
       "      <td>2011</td>\n",
       "      <td>4476</td>\n",
       "      <td>2019</td>\n",
       "    </tr>\n",
       "    <tr>\n",
       "      <th>114</th>\n",
       "      <td>S-7977049s</td>\n",
       "      <td>VW Tiguan</td>\n",
       "      <td>economy</td>\n",
       "      <td>petrol</td>\n",
       "      <td>4.90</td>\n",
       "      <td>2017</td>\n",
       "      <td>121088</td>\n",
       "      <td>2019</td>\n",
       "    </tr>\n",
       "  </tbody>\n",
       "</table>\n",
       "</div>"
      ],
      "text/plain": [
       "          car_id      model car_type fuel_type  car_rating  year_to_start  \\\n",
       "86    g-1912309G    VW Polo  economy    petrol        4.90           2013   \n",
       "1088  L-2071083z    VW Polo  economy    petrol        4.78           2011   \n",
       "114   S-7977049s  VW Tiguan  economy    petrol        4.90           2017   \n",
       "\n",
       "      riders  year_to_work  \n",
       "86     37330          2021  \n",
       "1088    4476          2019  \n",
       "114   121088          2019  "
      ]
     },
     "execution_count": 23,
     "metadata": {},
     "output_type": "execute_result"
    }
   ],
   "source": [
    "path = 'Datasets/Carsharing/car_test.csv'\n",
    "test = pd.read_csv(path)\n",
    "print(test.shape)\n",
    "test.sample(3)"
   ]
  },
  {
   "cell_type": "markdown",
   "metadata": {},
   "source": [
    "## Классифицируем признаки на типы"
   ]
  },
  {
   "cell_type": "code",
   "execution_count": 5,
   "metadata": {},
   "outputs": [
    {
     "name": "stdout",
     "output_type": "stream",
     "text": [
      "cat_features : 3 ['car_type', 'fuel_type', 'model']\n",
      "num_features : 4 ['car_rating', 'year_to_start', 'riders', 'year_to_work']\n",
      "targets ['target_class', 'target_reg']\n"
     ]
    }
   ],
   "source": [
    "features2drop = ['car_id'] # то, что надо выбросить \n",
    "targets = ['target_class', 'target_reg'] # таргеты\n",
    "cat_features = ['car_type', 'fuel_type', 'model'] # категориальные признаки\n",
    "\n",
    "filtered_features = [i for i in train.columns if (i not in targets and i not in features2drop)]\n",
    "num_features = [i for i in filtered_features if i not in cat_features]\n",
    "\n",
    "print('cat_features :', len(cat_features), cat_features)\n",
    "print('num_features :', len(num_features), num_features)\n",
    "print('targets', targets)"
   ]
  },
  {
   "cell_type": "markdown",
   "metadata": {},
   "source": [
    "## Обучаем Catboost и делаем прогноз на тест"
   ]
  },
  {
   "cell_type": "code",
   "execution_count": 6,
   "metadata": {},
   "outputs": [],
   "source": [
    "from catboost import CatBoostClassifier\n",
    "from sklearn.model_selection import train_test_split\n",
    "from sklearn.metrics import accuracy_score #, mean_squared_error"
   ]
  },
  {
   "cell_type": "code",
   "execution_count": 7,
   "metadata": {},
   "outputs": [
    {
     "name": "stdout",
     "output_type": "stream",
     "text": [
      "Learning rate set to 0.109335\n",
      "0:\tlearn: 2.1911361\ttest: 2.1951349\tbest: 2.1951349 (0)\ttotal: 74.5ms\tremaining: 1m 14s\n",
      "150:\tlearn: 1.6539682\ttest: 2.2440578\tbest: 2.1908935 (6)\ttotal: 2.17s\tremaining: 12.2s\n",
      "300:\tlearn: 1.2455381\ttest: 2.3306861\tbest: 2.1908935 (6)\ttotal: 4.63s\tremaining: 10.8s\n",
      "450:\tlearn: 0.9685364\ttest: 2.4038621\tbest: 2.1908935 (6)\ttotal: 7.49s\tremaining: 9.12s\n",
      "600:\tlearn: 0.7432300\ttest: 2.4962387\tbest: 2.1908935 (6)\ttotal: 11.2s\tremaining: 7.41s\n",
      "750:\tlearn: 0.5835086\ttest: 2.5783601\tbest: 2.1908935 (6)\ttotal: 14.9s\tremaining: 4.95s\n",
      "900:\tlearn: 0.4589187\ttest: 2.6654857\tbest: 2.1908935 (6)\ttotal: 18.6s\tremaining: 2.04s\n",
      "999:\tlearn: 0.3990111\ttest: 2.7166606\tbest: 2.1908935 (6)\ttotal: 21s\tremaining: 0us\n",
      "\n",
      "bestTest = 2.19089351\n",
      "bestIteration = 6\n",
      "\n",
      "Shrink model to first 7 iterations.\n",
      "\n",
      " Accuracy: 0.0876068376068376\n"
     ]
    }
   ],
   "source": [
    "X = train[filtered_features].drop(targets, axis=1, errors='ignore')\n",
    "y = train['target_class']\n",
    "\n",
    "X_train, X_test, y_train, y_test = train_test_split(X, y, test_size=0.2, random_state=42)\n",
    "\n",
    "clf = CatBoostClassifier(cat_features=cat_features)\n",
    "\n",
    "\n",
    "clf.fit(X_train, y_train, \n",
    "          eval_set=(X_test, y_test),\n",
    "          verbose=150, plot=False)\n",
    "\n",
    "# инференс модели\n",
    "y_pred = clf.predict(X_test)\n",
    "print(f'\\n Accuracy: {accuracy_score(y_test, y_pred)}')"
   ]
  },
  {
   "cell_type": "code",
   "execution_count": 8,
   "metadata": {},
   "outputs": [
    {
     "name": "stdout",
     "output_type": "stream",
     "text": [
      "CSV file saved!\n"
     ]
    }
   ],
   "source": [
    "test['target_class'] = clf.predict(test[filtered_features]).ravel()\n",
    "test[['car_id', 'target_class']].to_csv('../subs/simple_baseline_v1.csv', index=False)\n",
    "print('CSV file saved!')"
   ]
  },
  {
   "cell_type": "markdown",
   "metadata": {},
   "source": [
    "## Добавим информацию про поездки из rides_info"
   ]
  },
  {
   "cell_type": "markdown",
   "metadata": {},
   "source": [
    "\n",
    "🏇 Информация про поездки - `rides_info.csv`.  **Пояснение столбцов:**\n",
    "- `user_id` / `car_id` / `ride_id` - идентификаторы водителя, машины, поездки соответственно\n",
    "- `ride_date` / `rating` - дата поездки и рейтинг, поставленный водителем \n",
    "- `ride_duration` / `distance` / `ride_cost` -  длительность (время),  пройденное расстояние, стоимость поездки \n",
    "- `speed_avg` / `speed_max` - средняя и максимальная скорости поездки соответственно\n",
    "- `stop_times` / `refueling` - количество остановок (паузы) и флаг - была ли дозаправка.\n",
    "- `user_ride_quality` - оценка манеры вождения машины водителя, определенная скоринговой ML системой сервиса.\n",
    "- `deviation_normal` - общий показатель датчиков о состоянии машины, относительно эталонных показателей (нормы). \n"
   ]
  },
  {
   "cell_type": "code",
   "execution_count": 9,
   "metadata": {
    "tags": []
   },
   "outputs": [
    {
     "data": {
      "text/html": [
       "<div>\n",
       "<style scoped>\n",
       "    .dataframe tbody tr th:only-of-type {\n",
       "        vertical-align: middle;\n",
       "    }\n",
       "\n",
       "    .dataframe tbody tr th {\n",
       "        vertical-align: top;\n",
       "    }\n",
       "\n",
       "    .dataframe thead th {\n",
       "        text-align: right;\n",
       "    }\n",
       "</style>\n",
       "<table border=\"1\" class=\"dataframe\">\n",
       "  <thead>\n",
       "    <tr style=\"text-align: right;\">\n",
       "      <th></th>\n",
       "      <th>user_id</th>\n",
       "      <th>car_id</th>\n",
       "      <th>ride_id</th>\n",
       "      <th>ride_date</th>\n",
       "      <th>rating</th>\n",
       "      <th>ride_duration</th>\n",
       "      <th>ride_cost</th>\n",
       "      <th>speed_avg</th>\n",
       "      <th>speed_max</th>\n",
       "      <th>stop_times</th>\n",
       "      <th>distance</th>\n",
       "      <th>refueling</th>\n",
       "      <th>user_ride_quality</th>\n",
       "      <th>deviation_normal</th>\n",
       "    </tr>\n",
       "  </thead>\n",
       "  <tbody>\n",
       "    <tr>\n",
       "      <th>296092</th>\n",
       "      <td>f13513112o</td>\n",
       "      <td>U54140464j</td>\n",
       "      <td>r1q</td>\n",
       "      <td>2020-03-03</td>\n",
       "      <td>1.05</td>\n",
       "      <td>13</td>\n",
       "      <td>124</td>\n",
       "      <td>40</td>\n",
       "      <td>75.000000</td>\n",
       "      <td>1</td>\n",
       "      <td>300.334291</td>\n",
       "      <td>0</td>\n",
       "      <td>-3.097197</td>\n",
       "      <td>-37.154</td>\n",
       "    </tr>\n",
       "    <tr>\n",
       "      <th>266718</th>\n",
       "      <td>I15627521j</td>\n",
       "      <td>S15627573c</td>\n",
       "      <td>D1B</td>\n",
       "      <td>2020-03-20</td>\n",
       "      <td>4.52</td>\n",
       "      <td>70</td>\n",
       "      <td>764</td>\n",
       "      <td>34</td>\n",
       "      <td>78.000000</td>\n",
       "      <td>9</td>\n",
       "      <td>2115.465679</td>\n",
       "      <td>0</td>\n",
       "      <td>4.111654</td>\n",
       "      <td>10.607</td>\n",
       "    </tr>\n",
       "    <tr>\n",
       "      <th>387500</th>\n",
       "      <td>W91260508h</td>\n",
       "      <td>b-8098670o</td>\n",
       "      <td>a1l</td>\n",
       "      <td>2020-01-02</td>\n",
       "      <td>2.81</td>\n",
       "      <td>47</td>\n",
       "      <td>606</td>\n",
       "      <td>36</td>\n",
       "      <td>67.000000</td>\n",
       "      <td>1</td>\n",
       "      <td>1300.852934</td>\n",
       "      <td>0</td>\n",
       "      <td>-1.661866</td>\n",
       "      <td>-0.382</td>\n",
       "    </tr>\n",
       "    <tr>\n",
       "      <th>183395</th>\n",
       "      <td>G11543218N</td>\n",
       "      <td>N-1530212S</td>\n",
       "      <td>C1Z</td>\n",
       "      <td>2020-04-01</td>\n",
       "      <td>0.00</td>\n",
       "      <td>19510</td>\n",
       "      <td>214604</td>\n",
       "      <td>43</td>\n",
       "      <td>109.000000</td>\n",
       "      <td>2</td>\n",
       "      <td>853490.728371</td>\n",
       "      <td>0</td>\n",
       "      <td>7.362495</td>\n",
       "      <td>0.085</td>\n",
       "    </tr>\n",
       "    <tr>\n",
       "      <th>677749</th>\n",
       "      <td>W83193277o</td>\n",
       "      <td>v22254568R</td>\n",
       "      <td>r1e</td>\n",
       "      <td>2020-01-11</td>\n",
       "      <td>8.14</td>\n",
       "      <td>34</td>\n",
       "      <td>537</td>\n",
       "      <td>40</td>\n",
       "      <td>95.105802</td>\n",
       "      <td>1</td>\n",
       "      <td>1367.603005</td>\n",
       "      <td>0</td>\n",
       "      <td>2.322847</td>\n",
       "      <td>5.944</td>\n",
       "    </tr>\n",
       "  </tbody>\n",
       "</table>\n",
       "</div>"
      ],
      "text/plain": [
       "           user_id      car_id ride_id   ride_date  rating  ride_duration  \\\n",
       "296092  f13513112o  U54140464j     r1q  2020-03-03    1.05             13   \n",
       "266718  I15627521j  S15627573c     D1B  2020-03-20    4.52             70   \n",
       "387500  W91260508h  b-8098670o     a1l  2020-01-02    2.81             47   \n",
       "183395  G11543218N  N-1530212S     C1Z  2020-04-01    0.00          19510   \n",
       "677749  W83193277o  v22254568R     r1e  2020-01-11    8.14             34   \n",
       "\n",
       "        ride_cost  speed_avg   speed_max  stop_times       distance  \\\n",
       "296092        124         40   75.000000           1     300.334291   \n",
       "266718        764         34   78.000000           9    2115.465679   \n",
       "387500        606         36   67.000000           1    1300.852934   \n",
       "183395     214604         43  109.000000           2  853490.728371   \n",
       "677749        537         40   95.105802           1    1367.603005   \n",
       "\n",
       "        refueling  user_ride_quality  deviation_normal  \n",
       "296092          0          -3.097197           -37.154  \n",
       "266718          0           4.111654            10.607  \n",
       "387500          0          -1.661866            -0.382  \n",
       "183395          0           7.362495             0.085  \n",
       "677749          0           2.322847             5.944  "
      ]
     },
     "execution_count": 9,
     "metadata": {},
     "output_type": "execute_result"
    }
   ],
   "source": [
    "path = '../data/rides_info.csv'\n",
    "rides = pd.read_csv(path)\n",
    "rides.sample(5)"
   ]
  },
  {
   "cell_type": "code",
   "execution_count": 10,
   "metadata": {},
   "outputs": [
    {
     "data": {
      "text/html": [
       "<div>\n",
       "<style scoped>\n",
       "    .dataframe tbody tr th:only-of-type {\n",
       "        vertical-align: middle;\n",
       "    }\n",
       "\n",
       "    .dataframe tbody tr th {\n",
       "        vertical-align: top;\n",
       "    }\n",
       "\n",
       "    .dataframe thead th {\n",
       "        text-align: right;\n",
       "    }\n",
       "</style>\n",
       "<table border=\"1\" class=\"dataframe\">\n",
       "  <thead>\n",
       "    <tr style=\"text-align: right;\">\n",
       "      <th></th>\n",
       "      <th>car_id</th>\n",
       "      <th>mean_rating</th>\n",
       "      <th>distance_sum</th>\n",
       "      <th>rating_min</th>\n",
       "      <th>speed_max</th>\n",
       "      <th>user_ride_quality_median</th>\n",
       "      <th>deviation_normal_count</th>\n",
       "      <th>user_uniq</th>\n",
       "    </tr>\n",
       "  </thead>\n",
       "  <tbody>\n",
       "    <tr>\n",
       "      <th>0</th>\n",
       "      <td>A-1049127W</td>\n",
       "      <td>4.255172</td>\n",
       "      <td>1.125753e+07</td>\n",
       "      <td>0.1</td>\n",
       "      <td>179.729652</td>\n",
       "      <td>-0.288229</td>\n",
       "      <td>174</td>\n",
       "      <td>172</td>\n",
       "    </tr>\n",
       "    <tr>\n",
       "      <th>1</th>\n",
       "      <td>A-1079539w</td>\n",
       "      <td>4.088046</td>\n",
       "      <td>1.912765e+07</td>\n",
       "      <td>0.1</td>\n",
       "      <td>184.505566</td>\n",
       "      <td>2.508746</td>\n",
       "      <td>174</td>\n",
       "      <td>173</td>\n",
       "    </tr>\n",
       "  </tbody>\n",
       "</table>\n",
       "</div>"
      ],
      "text/plain": [
       "       car_id  mean_rating  distance_sum  rating_min   speed_max  \\\n",
       "0  A-1049127W     4.255172  1.125753e+07         0.1  179.729652   \n",
       "1  A-1079539w     4.088046  1.912765e+07         0.1  184.505566   \n",
       "\n",
       "   user_ride_quality_median  deviation_normal_count  user_uniq  \n",
       "0                 -0.288229                     174        172  \n",
       "1                  2.508746                     174        173  "
      ]
     },
     "execution_count": 10,
     "metadata": {},
     "output_type": "execute_result"
    }
   ],
   "source": [
    "f = lambda x: x.nunique()\n",
    "rides_df_gr = rides.groupby('car_id', as_index=False).agg(mean_rating = ('rating', 'mean'),\n",
    "                                                   distance_sum = ('distance', 'sum'),\n",
    "                                                   rating_min = ('rating', 'min'),\n",
    "                                                   speed_max = ('speed_max', 'max'),\n",
    "                                                   user_ride_quality_median = ('user_ride_quality', 'median'), \n",
    "                                                   deviation_normal_count = ('deviation_normal', 'count'),\n",
    "                                                   user_uniq = ('user_id', f))\n",
    "\n",
    "\n",
    "rides_df_gr.head(2)"
   ]
  },
  {
   "cell_type": "code",
   "execution_count": 11,
   "metadata": {},
   "outputs": [],
   "source": [
    "def add_featues(df):\n",
    "    \n",
    "    if 'mean_rating' not in df.columns:\n",
    "        return df.merge(rides_df_gr, on = 'car_id', how = 'left')\n",
    "    \n",
    "    return df\n",
    "    \n",
    "    \n",
    "train = add_featues(train)\n",
    "test = add_featues(test)"
   ]
  },
  {
   "cell_type": "code",
   "execution_count": 12,
   "metadata": {},
   "outputs": [
    {
     "data": {
      "text/html": [
       "<div>\n",
       "<style scoped>\n",
       "    .dataframe tbody tr th:only-of-type {\n",
       "        vertical-align: middle;\n",
       "    }\n",
       "\n",
       "    .dataframe tbody tr th {\n",
       "        vertical-align: top;\n",
       "    }\n",
       "\n",
       "    .dataframe thead th {\n",
       "        text-align: right;\n",
       "    }\n",
       "</style>\n",
       "<table border=\"1\" class=\"dataframe\">\n",
       "  <thead>\n",
       "    <tr style=\"text-align: right;\">\n",
       "      <th></th>\n",
       "      <th>car_id</th>\n",
       "      <th>model</th>\n",
       "      <th>car_type</th>\n",
       "      <th>fuel_type</th>\n",
       "      <th>car_rating</th>\n",
       "      <th>year_to_start</th>\n",
       "      <th>riders</th>\n",
       "      <th>year_to_work</th>\n",
       "      <th>target_reg</th>\n",
       "      <th>target_class</th>\n",
       "      <th>mean_rating</th>\n",
       "      <th>distance_sum</th>\n",
       "      <th>rating_min</th>\n",
       "      <th>speed_max</th>\n",
       "      <th>user_ride_quality_median</th>\n",
       "      <th>deviation_normal_count</th>\n",
       "      <th>user_uniq</th>\n",
       "    </tr>\n",
       "  </thead>\n",
       "  <tbody>\n",
       "    <tr>\n",
       "      <th>218</th>\n",
       "      <td>g-2283000q</td>\n",
       "      <td>Tesla Model 3</td>\n",
       "      <td>premium</td>\n",
       "      <td>electro</td>\n",
       "      <td>5.44</td>\n",
       "      <td>2015</td>\n",
       "      <td>75113</td>\n",
       "      <td>2020</td>\n",
       "      <td>47.95</td>\n",
       "      <td>gear_stick</td>\n",
       "      <td>4.413736</td>\n",
       "      <td>1.436422e+07</td>\n",
       "      <td>0.10</td>\n",
       "      <td>101.976813</td>\n",
       "      <td>-0.650539</td>\n",
       "      <td>174</td>\n",
       "      <td>141</td>\n",
       "    </tr>\n",
       "    <tr>\n",
       "      <th>1525</th>\n",
       "      <td>Q13493762f</td>\n",
       "      <td>Kia Rio X-line</td>\n",
       "      <td>economy</td>\n",
       "      <td>petrol</td>\n",
       "      <td>3.52</td>\n",
       "      <td>2015</td>\n",
       "      <td>92913</td>\n",
       "      <td>2021</td>\n",
       "      <td>62.06</td>\n",
       "      <td>engine_check</td>\n",
       "      <td>4.327069</td>\n",
       "      <td>1.032370e+07</td>\n",
       "      <td>0.15</td>\n",
       "      <td>164.000000</td>\n",
       "      <td>0.632199</td>\n",
       "      <td>174</td>\n",
       "      <td>172</td>\n",
       "    </tr>\n",
       "  </tbody>\n",
       "</table>\n",
       "</div>"
      ],
      "text/plain": [
       "          car_id           model car_type fuel_type  car_rating  \\\n",
       "218   g-2283000q   Tesla Model 3  premium   electro        5.44   \n",
       "1525  Q13493762f  Kia Rio X-line  economy    petrol        3.52   \n",
       "\n",
       "      year_to_start  riders  year_to_work  target_reg  target_class  \\\n",
       "218            2015   75113          2020       47.95    gear_stick   \n",
       "1525           2015   92913          2021       62.06  engine_check   \n",
       "\n",
       "      mean_rating  distance_sum  rating_min   speed_max  \\\n",
       "218      4.413736  1.436422e+07        0.10  101.976813   \n",
       "1525     4.327069  1.032370e+07        0.15  164.000000   \n",
       "\n",
       "      user_ride_quality_median  deviation_normal_count  user_uniq  \n",
       "218                  -0.650539                     174        141  \n",
       "1525                  0.632199                     174        172  "
      ]
     },
     "execution_count": 12,
     "metadata": {},
     "output_type": "execute_result"
    }
   ],
   "source": [
    "train.sample(2)"
   ]
  },
  {
   "cell_type": "code",
   "execution_count": 13,
   "metadata": {},
   "outputs": [],
   "source": [
    "train.to_csv('../tmp_data/quickstart_train.csv', index=False)"
   ]
  },
  {
   "cell_type": "code",
   "execution_count": 14,
   "metadata": {},
   "outputs": [],
   "source": [
    "test.to_csv('../tmp_data/quickstart_test.csv', index=False)"
   ]
  },
  {
   "cell_type": "markdown",
   "metadata": {},
   "source": [
    "# Снова обновляем типы фичей"
   ]
  },
  {
   "cell_type": "code",
   "execution_count": 15,
   "metadata": {},
   "outputs": [
    {
     "name": "stdout",
     "output_type": "stream",
     "text": [
      "num_features : 11 ['car_rating', 'year_to_start', 'riders', 'year_to_work', 'mean_rating', 'distance_sum', 'rating_min', 'speed_max', 'user_ride_quality_median', 'deviation_normal_count', 'user_uniq']\n",
      "cat_features : 3 ['car_type', 'fuel_type', 'model']\n",
      "targets ['target_class', 'target_reg']\n"
     ]
    }
   ],
   "source": [
    "filtered_features = [i for i in train.columns if (i not in targets and i not in features2drop)]\n",
    "num_features = [i for i in filtered_features if i not in cat_features]\n",
    "\n",
    "\n",
    "print('num_features :', len(num_features), num_features)\n",
    "print('cat_features :', len(cat_features), cat_features)\n",
    "print('targets', targets)"
   ]
  },
  {
   "cell_type": "markdown",
   "metadata": {},
   "source": [
    "# Обучаем Catboost на новых данных и делаем новый прогноз"
   ]
  },
  {
   "cell_type": "code",
   "execution_count": 16,
   "metadata": {},
   "outputs": [
    {
     "name": "stdout",
     "output_type": "stream",
     "text": [
      "Learning rate set to 0.109335\n",
      "0:\tlearn: 1.8475119\ttest: 1.8655808\tbest: 1.8655808 (0)\ttotal: 19.5ms\tremaining: 19.5s\n",
      "150:\tlearn: 0.3200590\ttest: 0.5547029\tbest: 0.5540463 (147)\ttotal: 3.03s\tremaining: 17s\n",
      "300:\tlearn: 0.1971982\ttest: 0.5615205\tbest: 0.5513186 (167)\ttotal: 6.13s\tremaining: 14.2s\n",
      "450:\tlearn: 0.1358231\ttest: 0.5753409\tbest: 0.5513186 (167)\ttotal: 9.25s\tremaining: 11.3s\n",
      "600:\tlearn: 0.0976373\ttest: 0.5939145\tbest: 0.5513186 (167)\ttotal: 12.4s\tremaining: 8.21s\n",
      "750:\tlearn: 0.0733795\ttest: 0.6068865\tbest: 0.5513186 (167)\ttotal: 16.8s\tremaining: 5.56s\n",
      "900:\tlearn: 0.0574033\ttest: 0.6209075\tbest: 0.5513186 (167)\ttotal: 21.2s\tremaining: 2.33s\n",
      "999:\tlearn: 0.0496109\ttest: 0.6291796\tbest: 0.5513186 (167)\ttotal: 24.1s\tremaining: 0us\n",
      "\n",
      "bestTest = 0.5513186112\n",
      "bestIteration = 167\n",
      "\n",
      "Shrink model to first 168 iterations.\n",
      "\n",
      " Accuracy: 0.782051282051282\n"
     ]
    }
   ],
   "source": [
    "X = train[filtered_features].drop(targets, axis=1, errors='ignore')\n",
    "y = train['target_class']\n",
    "\n",
    "X_train, X_test, y_train, y_test = train_test_split(X, y, test_size=0.2, random_state=42)\n",
    "\n",
    "clf = CatBoostClassifier(cat_features=cat_features)\n",
    "\n",
    "\n",
    "clf.fit(X_train, y_train, \n",
    "          eval_set=(X_test, y_test),\n",
    "          verbose=150, plot=False)\n",
    "\n",
    "# инференс модели\n",
    "y_pred = clf.predict(X_test)\n",
    "print(f'\\n Accuracy: {accuracy_score(y_test, y_pred)}')"
   ]
  },
  {
   "cell_type": "code",
   "execution_count": 17,
   "metadata": {},
   "outputs": [
    {
     "data": {
      "text/html": [
       "<div>\n",
       "<style scoped>\n",
       "    .dataframe tbody tr th:only-of-type {\n",
       "        vertical-align: middle;\n",
       "    }\n",
       "\n",
       "    .dataframe tbody tr th {\n",
       "        vertical-align: top;\n",
       "    }\n",
       "\n",
       "    .dataframe thead th {\n",
       "        text-align: right;\n",
       "    }\n",
       "</style>\n",
       "<table border=\"1\" class=\"dataframe\">\n",
       "  <thead>\n",
       "    <tr style=\"text-align: right;\">\n",
       "      <th></th>\n",
       "      <th>Feature Id</th>\n",
       "      <th>Importances</th>\n",
       "    </tr>\n",
       "  </thead>\n",
       "  <tbody>\n",
       "    <tr>\n",
       "      <th>0</th>\n",
       "      <td>speed_max</td>\n",
       "      <td>36.034645</td>\n",
       "    </tr>\n",
       "    <tr>\n",
       "      <th>1</th>\n",
       "      <td>mean_rating</td>\n",
       "      <td>30.903684</td>\n",
       "    </tr>\n",
       "    <tr>\n",
       "      <th>2</th>\n",
       "      <td>rating_min</td>\n",
       "      <td>13.938537</td>\n",
       "    </tr>\n",
       "    <tr>\n",
       "      <th>3</th>\n",
       "      <td>model</td>\n",
       "      <td>4.206258</td>\n",
       "    </tr>\n",
       "    <tr>\n",
       "      <th>4</th>\n",
       "      <td>car_type</td>\n",
       "      <td>3.881288</td>\n",
       "    </tr>\n",
       "    <tr>\n",
       "      <th>5</th>\n",
       "      <td>user_uniq</td>\n",
       "      <td>3.035950</td>\n",
       "    </tr>\n",
       "    <tr>\n",
       "      <th>6</th>\n",
       "      <td>user_ride_quality_median</td>\n",
       "      <td>2.097702</td>\n",
       "    </tr>\n",
       "    <tr>\n",
       "      <th>7</th>\n",
       "      <td>distance_sum</td>\n",
       "      <td>1.614279</td>\n",
       "    </tr>\n",
       "    <tr>\n",
       "      <th>8</th>\n",
       "      <td>riders</td>\n",
       "      <td>1.347984</td>\n",
       "    </tr>\n",
       "    <tr>\n",
       "      <th>9</th>\n",
       "      <td>car_rating</td>\n",
       "      <td>1.149331</td>\n",
       "    </tr>\n",
       "    <tr>\n",
       "      <th>10</th>\n",
       "      <td>year_to_work</td>\n",
       "      <td>1.127178</td>\n",
       "    </tr>\n",
       "    <tr>\n",
       "      <th>11</th>\n",
       "      <td>year_to_start</td>\n",
       "      <td>0.644968</td>\n",
       "    </tr>\n",
       "    <tr>\n",
       "      <th>12</th>\n",
       "      <td>fuel_type</td>\n",
       "      <td>0.018196</td>\n",
       "    </tr>\n",
       "    <tr>\n",
       "      <th>13</th>\n",
       "      <td>deviation_normal_count</td>\n",
       "      <td>0.000000</td>\n",
       "    </tr>\n",
       "  </tbody>\n",
       "</table>\n",
       "</div>"
      ],
      "text/plain": [
       "                  Feature Id  Importances\n",
       "0                  speed_max    36.034645\n",
       "1                mean_rating    30.903684\n",
       "2                 rating_min    13.938537\n",
       "3                      model     4.206258\n",
       "4                   car_type     3.881288\n",
       "5                  user_uniq     3.035950\n",
       "6   user_ride_quality_median     2.097702\n",
       "7               distance_sum     1.614279\n",
       "8                     riders     1.347984\n",
       "9                 car_rating     1.149331\n",
       "10              year_to_work     1.127178\n",
       "11             year_to_start     0.644968\n",
       "12                 fuel_type     0.018196\n",
       "13    deviation_normal_count     0.000000"
      ]
     },
     "execution_count": 17,
     "metadata": {},
     "output_type": "execute_result"
    }
   ],
   "source": [
    "fi = clf.get_feature_importance(prettified=True)\n",
    "fi"
   ]
  },
  {
   "cell_type": "code",
   "execution_count": 18,
   "metadata": {
    "tags": []
   },
   "outputs": [
    {
     "name": "stdout",
     "output_type": "stream",
     "text": [
      "CSV file saved!\n"
     ]
    }
   ],
   "source": [
    "test['target_class'] = clf.predict(test[filtered_features]).ravel()\n",
    "test[['car_id', 'target_class']].to_csv('../subs/simple_baseline_v2.csv', index=False)\n",
    "print('CSV file saved!')"
   ]
  },
  {
   "cell_type": "markdown",
   "metadata": {},
   "source": [
    "# Что дальше? Зашли решение на Kaggle\n",
    "\n",
    "- Нажимаем `Save Version`\n",
    "- Проверяем, что в `Advanced Settings` выбрано - всегда сохранять результаты ноутбука.\n",
    "- Тип сохранения `Save & Run All (Commit)`\n",
    "- Жмем окончательно кнопку `Save`"
   ]
  }
 ],
 "metadata": {
  "finalized": {
   "timestamp": 1661552636568,
   "trusted": true
  },
  "kernelspec": {
   "display_name": "Python 3 (ipykernel)",
   "language": "python",
   "name": "python3"
  },
  "language_info": {
   "codemirror_mode": {
    "name": "ipython",
    "version": 3
   },
   "file_extension": ".py",
   "mimetype": "text/x-python",
   "name": "python",
   "nbconvert_exporter": "python",
   "pygments_lexer": "ipython3",
   "version": "3.10.5"
  },
  "toc": {
   "base_numbering": 1,
   "nav_menu": {},
   "number_sections": true,
   "sideBar": true,
   "skip_h1_title": false,
   "title_cell": "Table of Contents",
   "title_sidebar": "Contents",
   "toc_cell": false,
   "toc_position": {},
   "toc_section_display": true,
   "toc_window_display": false
  }
 },
 "nbformat": 4,
 "nbformat_minor": 4
}
